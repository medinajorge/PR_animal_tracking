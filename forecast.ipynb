{
    "cells": [
        {
            "cell_type": "markdown",
            "metadata": {},
            "source": "## Packages and params"
        },
        {
            "cell_type": "code",
            "execution_count": null,
            "metadata": {
                "scrolled": true,
                "trusted": true
            },
            "outputs": [],
            "source": "#Packages\nfrom ipynb_pkgs import *\nimport utils as clf_utils\nfrom utils import params as clf_params\nfrom forecasting.analysis import *"
        },
        {
            "cell_type": "code",
            "execution_count": null,
            "metadata": {
                "trusted": true
            },
            "outputs": [],
            "source": ""
        },
        {
            "cell_type": "markdown",
            "metadata": {},
            "source": "# Data preprocess"
        },
        {
            "cell_type": "code",
            "execution_count": null,
            "metadata": {
                "trusted": true
            },
            "outputs": [],
            "source": "data, features, features_predict, center = load.load_data(species='Southern elephant seal')"
        },
        {
            "cell_type": "markdown",
            "metadata": {},
            "source": "## Store data for aniMotum (R)"
        },
        {
            "cell_type": "markdown",
            "metadata": {},
            "source": "Run this cell before training the animotum models (scripts/animotum_models.R)"
        },
        {
            "cell_type": "code",
            "execution_count": null,
            "metadata": {
                "trusted": true
            },
            "outputs": [],
            "source": "data_train, data_val, data_test = load.preprocess_animotum()"
        },
        {
            "cell_type": "markdown",
            "metadata": {},
            "source": "# Data visualization and split"
        },
        {
            "cell_type": "code",
            "execution_count": null,
            "metadata": {
                "trusted": true
            },
            "outputs": [],
            "source": "from forecasting.plots import dataset\n# paper_fig\ndataset.dataset_split(ext='pdf')"
        },
        {
            "cell_type": "code",
            "execution_count": null,
            "metadata": {
                "trusted": true
            },
            "outputs": [],
            "source": "# paper fig\ndataset.feature_multicollinearity(corr_method='pearson', ext=['pdf', 'png'])"
        },
        {
            "cell_type": "markdown",
            "metadata": {},
            "source": "# Hyperparameter tuning"
        },
        {
            "cell_type": "markdown",
            "metadata": {},
            "source": "Run first scripts/forecast_optim.py or scripts/imputation_optim.py"
        },
        {
            "cell_type": "code",
            "execution_count": null,
            "metadata": {
                "scrolled": true,
                "trusted": true
            },
            "outputs": [],
            "source": "optq = OptimalHyperparameters(mode='quantile')\noptq.best()"
        },
        {
            "cell_type": "code",
            "execution_count": null,
            "metadata": {
                "trusted": true
            },
            "outputs": [],
            "source": "optq.optim_params"
        },
        {
            "cell_type": "code",
            "execution_count": null,
            "metadata": {
                "trusted": true
            },
            "outputs": [],
            "source": "# best HP forecasting\nget_hp(store_missing_idxs=True, max_train_days=4, params_idx=0)"
        },
        {
            "cell_type": "code",
            "execution_count": null,
            "metadata": {
                "trusted": true
            },
            "outputs": [],
            "source": "# best HP imputation\nget_hp(predict_shift=112, max_train_days=4, store_missing_idxs=True, expand_encoder_until_future_length=True, task='imputation', epochs=200, params_idx=0)"
        },
        {
            "cell_type": "code",
            "execution_count": null,
            "metadata": {
                "trusted": true
            },
            "outputs": [],
            "source": "# best HP TFT[B]\nget_hp(mode='quantile', task='forecasting', **params.TFT_specs['forecasting'], max_train_days=4, quantiles='all', s_q=5, params_idx=0)"
        },
        {
            "cell_type": "code",
            "execution_count": null,
            "metadata": {
                "trusted": true
            },
            "outputs": [],
            "source": "get_hp(mode='quantile', task='imputation', **params.TFT_specs['imputation'], quantiles='all', s_q=1, params_idx=1)"
        },
        {
            "cell_type": "markdown",
            "metadata": {},
            "source": "# TFT"
        },
        {
            "cell_type": "markdown",
            "metadata": {},
            "source": "## Example"
        },
        {
            "cell_type": "code",
            "execution_count": null,
            "metadata": {
                "scrolled": true,
                "trusted": true
            },
            "outputs": [],
            "source": "# tft = model.QuantileForecaster(store_missing_idxs=True, max_train_days=4)\ntft = model.QuantileForecaster(store_missing_idxs=True, max_train_days=4, quantiles='all', s_q=1) # TFT 2D distribution (TFT[B])"
        },
        {
            "cell_type": "code",
            "execution_count": null,
            "metadata": {
                "trusted": true
            },
            "outputs": [],
            "source": "tft.train(epochs=2, limit_train_batches=2)"
        },
        {
            "cell_type": "code",
            "execution_count": null,
            "metadata": {
                "trusted": true
            },
            "outputs": [],
            "source": "results = tft.get_results(partition='test')"
        },
        {
            "cell_type": "code",
            "execution_count": null,
            "metadata": {
                "trusted": true
            },
            "outputs": [],
            "source": "results.keys()"
        },
        {
            "cell_type": "markdown",
            "metadata": {},
            "source": "## Evals"
        },
        {
            "cell_type": "markdown",
            "metadata": {},
            "source": "Requires having trained before (scripts/forecast_store.py). If using hyperparameter optimization, it requires first computing the HP (scripts/forecast_optim.py)"
        },
        {
            "cell_type": "code",
            "execution_count": null,
            "metadata": {
                "trusted": true
            },
            "outputs": [],
            "source": "cvg, area = area_coverage_CI(params_idx=0)"
        },
        {
            "cell_type": "code",
            "execution_count": null,
            "metadata": {
                "trusted": true
            },
            "outputs": [],
            "source": "# quality\nkwargs = dict(mpl_val=True, partition='test')\ndf = pd.concat([quality_sample(params_idx=p, **kwargs).mean() for p in range(6)], axis=1).T"
        },
        {
            "cell_type": "code",
            "execution_count": null,
            "metadata": {
                "trusted": true
            },
            "outputs": [],
            "source": "# best model\ntask = 'forecasting'\nbest_idx, _ = quantile_best_model(task=task, **params.TFT_specs[task])"
        },
        {
            "cell_type": "markdown",
            "metadata": {},
            "source": "# SSMs"
        },
        {
            "cell_type": "code",
            "execution_count": null,
            "metadata": {
                "trusted": true
            },
            "outputs": [],
            "source": "for model in tqdm(params.ssm_models):\n    for magnitude in ['area', 'coverage']:\n        for se_val_fit in ['best']: #[True, False]:\n            df = ssm.eval_ssm_CI(model=model, magnitude=magnitude, se_val_fit=se_val_fit)"
        },
        {
            "cell_type": "markdown",
            "metadata": {},
            "source": "# Main"
        },
        {
            "cell_type": "markdown",
            "metadata": {},
            "source": "## SSMs vs TFT"
        },
        {
            "cell_type": "code",
            "execution_count": null,
            "metadata": {
                "trusted": true
            },
            "outputs": [],
            "source": "# paper tables\n# task in ['forecasting', 'imputation']\n# Disable PR optimization with mpl_val=False\ndf = main_results(task='forecasting', mpl_val=True)\ncriteria = {col: ('upper' if 'Q' in col else 'lower') for col in df.columns}\ndf = pd_utils.highlight_best(df, criteria=criteria)"
        },
        {
            "cell_type": "markdown",
            "metadata": {},
            "source": "## Prediction visualization"
        },
        {
            "cell_type": "code",
            "execution_count": null,
            "metadata": {
                "trusted": true
            },
            "outputs": [],
            "source": "# paper fig\nfor method in ['hull', 'contour']:\n    for animal in [37, 199]:\n        plot_pr_comparison_trajectory(animal=animal, task='forecasting', method=method,\n                                      ext=['pdf', 'svg'])"
        },
        {
            "cell_type": "markdown",
            "metadata": {},
            "source": "## SHAP values"
        },
        {
            "cell_type": "code",
            "execution_count": null,
            "metadata": {
                "trusted": true
            },
            "outputs": [],
            "source": "# paper fig\next = ['svg', 'pdf']\nerror_analysis.shap_plot(target='distance', task='forecasting', all_features=False, c=True, exclude_prediction_attrs=True, xlims=[-20,20], ext=ext) # 9% decrease in error, 18% in val\n\nerror_analysis.shap_plot(target='area', task='forecasting', all_features=False, c=False, exclude_prediction_attrs=True, xlims=[int(-2.5e5), int(2.5e5)], ext=ext) # 19% decrease in error, 72% in val"
        },
        {
            "cell_type": "code",
            "execution_count": null,
            "metadata": {
                "trusted": true
            },
            "outputs": [],
            "source": "# paper fig\next = ['svg', 'pdf']\nerror_analysis.shap_plot(target='distance', task='imputation', all_features=False, exclude_prediction_attrs=True, c=True, xlims=[-11, 11], ext=ext)\nerror_analysis.shap_plot(target='area', task='imputation', all_features=False, exclude_prediction_attrs=True, c=True, xlims=[-20002, 20002], ext=ext)"
        },
        {
            "cell_type": "markdown",
            "metadata": {},
            "source": "# Supplementary"
        },
        {
            "cell_type": "markdown",
            "metadata": {},
            "source": "## SSMs vs TFT"
        },
        {
            "cell_type": "code",
            "execution_count": null,
            "metadata": {
                "trusted": true
            },
            "outputs": [],
            "source": "ext = ['png', 'svg']\nfor metric in ['CI']:#, 'rae']:#, 'rae', 'arae']:\n    for task in ['forecasting', 'imputation']:\n        model_comp_coverage(metric=metric, ext=ext, task=task, **params.TFT_specs[task], add_bivariate=True)"
        },
        {
            "cell_type": "code",
            "execution_count": null,
            "metadata": {
                "trusted": true
            },
            "outputs": [],
            "source": "ext = ['png', 'svg']\nfor task in ['forecasting', 'imputation']:\n    model_comp_area(ext=ext, task=task, **params.TFT_specs[task], add_bivariate=True)"
        },
        {
            "cell_type": "code",
            "execution_count": null,
            "metadata": {
                "trusted": true
            },
            "outputs": [],
            "source": "ylim = [0, 550]\next = ['png', 'svg']\nfor task in ['forecasting']:#, 'imputation']:\n    point_prediction_error_plot(ext=ext, task=task, ylim=ylim, **params.TFT_specs[task], add_bivariate=True)"
        },
        {
            "cell_type": "code",
            "execution_count": null,
            "metadata": {
                "trusted": true
            },
            "outputs": [],
            "source": "# table supplementary\ndf = point_prediction_best_models_across_time()"
        },
        {
            "cell_type": "code",
            "execution_count": null,
            "metadata": {
                "trusted": true
            },
            "outputs": [],
            "source": "df"
        },
        {
            "cell_type": "code",
            "execution_count": null,
            "metadata": {
                "trusted": true
            },
            "outputs": [],
            "source": "# supplementary tables (area, coverage, distance)\ndf = aggregate_summary(unit=False, divide_area=1e5, simplify=False, area_exp_fmt=False,\n                                task='forecasting', CI_expansion=True)\ndf = pd_utils.highlight_best(df, 'lower')"
        },
        {
            "cell_type": "code",
            "execution_count": null,
            "metadata": {
                "trusted": true
            },
            "outputs": [],
            "source": ""
        },
        {
            "cell_type": "markdown",
            "metadata": {},
            "source": "## Prediction visualization"
        },
        {
            "cell_type": "code",
            "execution_count": null,
            "metadata": {
                "trusted": true
            },
            "outputs": [],
            "source": "ext = ['svg', 'png']\nspecs = dict(lw=5, ms=34, ms_p=42, lw_p=5, mlw=3)\ntrajectory_confidence_region(step=3, legend=True, ext=ext, **specs) # legend\ntrajectory_confidence_region(step=-1, legend=False, ext=ext) #initial_trajectory"
        },
        {
            "cell_type": "code",
            "execution_count": null,
            "metadata": {
                "trusted": true
            },
            "outputs": [],
            "source": "specs = dict(lw=5, ms=34, ms_p=42, lw_p=5, mlw=3)\next = ['svg', 'png']\ntrajectory_confidence_region(step=0, legend=False, ext=ext, n_obs=7, n_obs_lims=5, **specs) # t1\ntrajectory_confidence_region(step=1, legend=False, ext=ext, n_obs=7, n_obs_lims=5, **specs) # t2\ntrajectory_confidence_region(step=5, legend=False, ext=ext, n_obs=7, n_obs_lims=5,\n                                      title_type='step_n', **specs) # t_n"
        },
        {
            "cell_type": "code",
            "execution_count": null,
            "metadata": {
                "trusted": true
            },
            "outputs": [],
            "source": "# texts\ntrajectory_confidence_region(step=0, legend=False, ext='svg', n_obs=7, n_obs_lims=5, text=True) # t1\ntrajectory_confidence_region(step=1, legend=False, ext='svg', n_obs=7, n_obs_lims=5, text=True) # t2\ntrajectory_confidence_region(step=5, legend=False, ext='svg', n_obs=7, n_obs_lims=5,\n                                      title_type='step_n', text=True) # t_n"
        },
        {
            "cell_type": "markdown",
            "metadata": {},
            "source": "## Variable selection weights and attention"
        },
        {
            "cell_type": "code",
            "execution_count": null,
            "metadata": {
                "trusted": true
            },
            "outputs": [],
            "source": "# paper fig\nparams_idx = 'best'\next = ['svg', 'png']\ny_max = 0.30 # None\nfor task in ['forecasting', 'imputation']:\n    kwargs = params.TFT_specs[task]\n    attention_plot(params_idx=params_idx, ext=ext, task=task, y_max=y_max, **kwargs)"
        },
        {
            "cell_type": "code",
            "execution_count": null,
            "metadata": {
                "trusted": true
            },
            "outputs": [],
            "source": "# paper fig\next = ['png', 'svg']\nparams_idx = 'best'\nvar_offset = {'encoder': (0.2, [-0.3, 0.51]),\n              'decoder': (0.2, [-0.5, 1.05]),\n              'static': (0.45, [-0.5, 1.05])}\nfor task in ['imputation']: #['forecasting', 'imputation']:\n    kwargs = params.TFT_specs[task]\n    if task == 'imputation':\n        var_offset['future'] = (0.2, [-0.3, 0.51])\n        var_offset['static'] = (0.45, [-0.8, 1.05])\n    for var_type, (offset, xlims) in var_offset.items():\n        xlims[1] = 1.05\n        if task != 'imputation' or var_type != 'static':\n            xlims[0] = -0.5\n        if var_type in ['encoder', 'future']:\n            feature_importance_plot(task=task, params_idx=params_idx, var_type=var_type, ext=ext, offset=offset, xlims=xlims, **kwargs)\n        else:\n            feature_importance_plot(task=task, params_idx=params_idx, var_type=var_type, ext=ext, offset=offset, xlims=xlims, **kwargs)"
        },
        {
            "cell_type": "code",
            "execution_count": null,
            "metadata": {
                "trusted": true
            },
            "outputs": [],
            "source": ""
        },
        {
            "cell_type": "markdown",
            "metadata": {},
            "source": "## Error analysis"
        },
        {
            "cell_type": "code",
            "execution_count": null,
            "metadata": {
                "trusted": true
            },
            "outputs": [],
            "source": "# paper supplementary\nfor method in ['spearman']: #['spearman', 'pearson']:\n    for target in ['Q', 'distance']:\n        error_analysis.error_corr_plot(task='forecasting', method=method, target=target, ext=['png', 'svg'], min_corr=0.3)"
        },
        {
            "cell_type": "code",
            "execution_count": null,
            "metadata": {
                "trusted": true
            },
            "outputs": [],
            "source": "# paper result\ndf = error_analysis.error_corr_with_target(target='distance', task='forecasting', **params.TFT_specs['forecasting'])\n# distance-area correlation: 0.57\ndf.loc['area', 'corr']"
        },
        {
            "cell_type": "code",
            "execution_count": null,
            "metadata": {
                "trusted": true
            },
            "outputs": [],
            "source": "# paper result\ntask = 'imputation'\ndf = error_analysis.error_corr_with_target(target='distance', ef_abs_diff='replace', task=task, **params.TFT_specs[task])\n# distance-area correlation: 0.77\ndf.loc['area', 'corr']"
        },
        {
            "cell_type": "code",
            "execution_count": null,
            "metadata": {
                "trusted": true
            },
            "outputs": [],
            "source": "# paper supplementary\nerror_analysis.bathymetry_speed_against_distance(ext='png')"
        },
        {
            "cell_type": "code",
            "execution_count": null,
            "metadata": {
                "trusted": true
            },
            "outputs": [],
            "source": "# paper supplementary\nerror_analysis.bathymetry_speed_pmf_corr_with_distance()"
        },
        {
            "cell_type": "code",
            "execution_count": null,
            "metadata": {
                "trusted": true
            },
            "outputs": [],
            "source": "error_analysis.distance_error_heatmap(task='forecasting', ext=['svg', 'png'])"
        },
        {
            "cell_type": "code",
            "execution_count": null,
            "metadata": {
                "trusted": true
            },
            "outputs": [],
            "source": "error_analysis.distance_error_contour(task='forecasting', ext=['svg', 'png'])"
        },
        {
            "cell_type": "code",
            "execution_count": null,
            "metadata": {
                "trusted": true
            },
            "outputs": [],
            "source": "task = 'forecasting'\nerror_avg, bathymetry_rescaled, speed, cds_encoder, cds_decoder = error_analysis.preprocess_distance_analysis(task=task)\nspeed.median(), speed.quantile(0.8)"
        },
        {
            "cell_type": "code",
            "execution_count": null,
            "metadata": {
                "trusted": true
            },
            "outputs": [],
            "source": "np.median(bathymetry_rescaled), np.percentile(bathymetry_rescaled, [25, 60])"
        },
        {
            "cell_type": "code",
            "execution_count": null,
            "metadata": {
                "trusted": true
            },
            "outputs": [],
            "source": "# paper supplementary: Compare errors vs bathymetry\nbest_zone = (bathymetry_rescaled.squeeze() >= -1000) & (speed <= 3)\nerror_avg[best_zone].mean(), error_avg[~best_zone].mean()"
        },
        {
            "cell_type": "code",
            "execution_count": null,
            "metadata": {
                "trusted": true
            },
            "outputs": [],
            "source": "bootstrap.CI_bca(error_avg[best_zone].values, custom_metrics.nb_mean, R=int(1e4)), bootstrap.CI_bca(error_avg[~best_zone].values, custom_metrics.nb_mean, R=int(1e4))"
        },
        {
            "cell_type": "code",
            "execution_count": null,
            "metadata": {
                "trusted": true
            },
            "outputs": [],
            "source": "bad_zone_low_speed = (bathymetry_rescaled.squeeze() < -1000) & (speed <= 3)\nerror_avg[bad_zone_low_speed].mean(), bootstrap.CI_bca(error_avg[bad_zone_low_speed].values, custom_metrics.nb_mean, R=int(1e4))"
        }
    ],
    "metadata": {
        "kernelspec": {
            "display_name": "Python 3 (ipykernel)",
            "language": "python",
            "name": "python3"
        },
        "language_info": {
            "codemirror_mode": {
                "name": "ipython",
                "version": 3
            },
            "file_extension": ".py",
            "mimetype": "text/x-python",
            "name": "python",
            "nbconvert_exporter": "python",
            "pygments_lexer": "ipython3",
            "version": "3.9.13"
        },
        "toc": {
            "base_numbering": 1,
            "nav_menu": {},
            "number_sections": true,
            "sideBar": true,
            "skip_h1_title": false,
            "title_cell": "Table of Contents",
            "title_sidebar": "Contents",
            "toc_cell": false,
            "toc_position": {},
            "toc_section_display": true,
            "toc_window_display": false
        }
    },
    "nbformat": 4,
    "nbformat_minor": 5
}